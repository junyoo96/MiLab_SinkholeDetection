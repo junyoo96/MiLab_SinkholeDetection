{
 "cells": [
  {
   "cell_type": "code",
   "execution_count": 30,
   "metadata": {
    "ExecuteTime": {
     "end_time": "2020-06-18T10:49:55.228911Z",
     "start_time": "2020-06-18T10:49:55.215598Z"
    }
   },
   "outputs": [],
   "source": [
    "import os\n",
    "\n",
    "def rename_file(startIndex): # 현재 위치(.)의 파일을 모두 가져온다.\n",
    "\n",
    "    ToConvertFilesPath=\"./ToConvertFiles/\"\n",
    "    ConvertedFilesPath=\"./ConvertedFiles/\"\n",
    "\n",
    "    allFiles=os.listdir(\"./ToConvertFiles\")\n",
    "    allFiles.sort()\n",
    "    \n",
    "    for filename in allFiles: # 파일 확장자가 (properties)인 것만 처리\n",
    "    # if filename.endswith(\"properties\"): # 파일명에서 AA를 BB로 변경하고 파일명 수정\n",
    "    #     new_filename = filename.replace(\"AA\", \"BB\")\n",
    "    #     os.rename(filename, new_filename)\n",
    "        print(filename)\n",
    "\n",
    "        splitedFilename=filename.split(\"_\")\n",
    "        resultName=splitedFilename[0]+\"_\"+str(startIndex)+\".png\"\n",
    "        \n",
    "        command=\"mv \"+ToConvertFilesPath+filename+\" \"+ConvertedFilesPath+resultName\n",
    "        print(command)\n",
    "        os.system(command)\n",
    "        print(resultName)\n",
    "        print(\"===============\")\n",
    "\n",
    "        startIndex+=1\n",
    "\n",
    "        # os.rename(filename,ConvertedFilesPath+filename)\n"
   ]
  },
  {
   "cell_type": "code",
   "execution_count": 32,
   "metadata": {
    "ExecuteTime": {
     "end_time": "2020-06-18T10:50:19.920342Z",
     "start_time": "2020-06-18T10:50:19.887106Z"
    }
   },
   "outputs": [
    {
     "name": "stdout",
     "output_type": "stream",
     "text": [
      "subsoil_100.png\n",
      "mv ./ToConvertFiles/subsoil_100.png ./ConvertedFiles/subsoil_110.png\n",
      "subsoil_110.png\n",
      "===============\n",
      "subsoil_101.png\n",
      "mv ./ToConvertFiles/subsoil_101.png ./ConvertedFiles/subsoil_111.png\n",
      "subsoil_111.png\n",
      "===============\n",
      "subsoil_102.png\n",
      "mv ./ToConvertFiles/subsoil_102.png ./ConvertedFiles/subsoil_112.png\n",
      "subsoil_112.png\n",
      "===============\n",
      "subsoil_103.png\n",
      "mv ./ToConvertFiles/subsoil_103.png ./ConvertedFiles/subsoil_113.png\n",
      "subsoil_113.png\n",
      "===============\n"
     ]
    }
   ],
   "source": [
    "#\n",
    "if __name__ == \"__main__\":\n",
    "    rename_file(110)"
   ]
  },
  {
   "cell_type": "code",
   "execution_count": null,
   "metadata": {},
   "outputs": [],
   "source": []
  }
 ],
 "metadata": {
  "kernelspec": {
   "display_name": "Python 3",
   "language": "python",
   "name": "python3"
  },
  "language_info": {
   "codemirror_mode": {
    "name": "ipython",
    "version": 3
   },
   "file_extension": ".py",
   "mimetype": "text/x-python",
   "name": "python",
   "nbconvert_exporter": "python",
   "pygments_lexer": "ipython3",
   "version": "3.6.9"
  },
  "toc": {
   "base_numbering": 1,
   "nav_menu": {},
   "number_sections": true,
   "sideBar": true,
   "skip_h1_title": false,
   "title_cell": "Table of Contents",
   "title_sidebar": "Contents",
   "toc_cell": false,
   "toc_position": {},
   "toc_section_display": true,
   "toc_window_display": false
  },
  "varInspector": {
   "cols": {
    "lenName": 16,
    "lenType": 16,
    "lenVar": 40
   },
   "kernels_config": {
    "python": {
     "delete_cmd_postfix": "",
     "delete_cmd_prefix": "del ",
     "library": "var_list.py",
     "varRefreshCmd": "print(var_dic_list())"
    },
    "r": {
     "delete_cmd_postfix": ") ",
     "delete_cmd_prefix": "rm(",
     "library": "var_list.r",
     "varRefreshCmd": "cat(var_dic_list()) "
    }
   },
   "types_to_exclude": [
    "module",
    "function",
    "builtin_function_or_method",
    "instance",
    "_Feature"
   ],
   "window_display": false
  }
 },
 "nbformat": 4,
 "nbformat_minor": 4
}
