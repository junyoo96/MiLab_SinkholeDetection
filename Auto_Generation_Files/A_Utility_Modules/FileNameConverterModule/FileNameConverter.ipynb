{
 "cells": [
  {
   "cell_type": "code",
   "execution_count": 9,
   "metadata": {
    "ExecuteTime": {
     "end_time": "2020-07-11T00:34:25.049396Z",
     "start_time": "2020-07-11T00:34:24.894992Z"
    }
   },
   "outputs": [
    {
     "name": "stdout",
     "output_type": "stream",
     "text": [
      "subsoil_1.png\n",
      "mv ./ToConvertFiles/subsoil_1.png ./ConvertedFiles/subsoil_101.png\n",
      "subsoil_101.png\n",
      "===============\n",
      "subsoil_10.png\n",
      "mv ./ToConvertFiles/subsoil_10.png ./ConvertedFiles/subsoil_102.png\n",
      "subsoil_102.png\n",
      "===============\n",
      "subsoil_11.png\n",
      "mv ./ToConvertFiles/subsoil_11.png ./ConvertedFiles/subsoil_103.png\n",
      "subsoil_103.png\n",
      "===============\n",
      "subsoil_12.png\n",
      "mv ./ToConvertFiles/subsoil_12.png ./ConvertedFiles/subsoil_104.png\n",
      "subsoil_104.png\n",
      "===============\n",
      "subsoil_13.png\n",
      "mv ./ToConvertFiles/subsoil_13.png ./ConvertedFiles/subsoil_105.png\n",
      "subsoil_105.png\n",
      "===============\n",
      "subsoil_14.png\n",
      "mv ./ToConvertFiles/subsoil_14.png ./ConvertedFiles/subsoil_106.png\n",
      "subsoil_106.png\n",
      "===============\n",
      "subsoil_15.png\n",
      "mv ./ToConvertFiles/subsoil_15.png ./ConvertedFiles/subsoil_107.png\n",
      "subsoil_107.png\n",
      "===============\n",
      "subsoil_16.png\n",
      "mv ./ToConvertFiles/subsoil_16.png ./ConvertedFiles/subsoil_108.png\n",
      "subsoil_108.png\n",
      "===============\n",
      "subsoil_17.png\n",
      "mv ./ToConvertFiles/subsoil_17.png ./ConvertedFiles/subsoil_109.png\n",
      "subsoil_109.png\n",
      "===============\n",
      "subsoil_18.png\n",
      "mv ./ToConvertFiles/subsoil_18.png ./ConvertedFiles/subsoil_110.png\n",
      "subsoil_110.png\n",
      "===============\n",
      "subsoil_19.png\n",
      "mv ./ToConvertFiles/subsoil_19.png ./ConvertedFiles/subsoil_111.png\n",
      "subsoil_111.png\n",
      "===============\n",
      "subsoil_2.png\n",
      "mv ./ToConvertFiles/subsoil_2.png ./ConvertedFiles/subsoil_112.png\n",
      "subsoil_112.png\n",
      "===============\n",
      "subsoil_20.png\n",
      "mv ./ToConvertFiles/subsoil_20.png ./ConvertedFiles/subsoil_113.png\n",
      "subsoil_113.png\n",
      "===============\n",
      "subsoil_3.png\n",
      "mv ./ToConvertFiles/subsoil_3.png ./ConvertedFiles/subsoil_114.png\n",
      "subsoil_114.png\n",
      "===============\n",
      "subsoil_4.png\n",
      "mv ./ToConvertFiles/subsoil_4.png ./ConvertedFiles/subsoil_115.png\n",
      "subsoil_115.png\n",
      "===============\n",
      "subsoil_5.png\n",
      "mv ./ToConvertFiles/subsoil_5.png ./ConvertedFiles/subsoil_116.png\n",
      "subsoil_116.png\n",
      "===============\n",
      "subsoil_6.png\n",
      "mv ./ToConvertFiles/subsoil_6.png ./ConvertedFiles/subsoil_117.png\n",
      "subsoil_117.png\n",
      "===============\n",
      "subsoil_7.png\n",
      "mv ./ToConvertFiles/subsoil_7.png ./ConvertedFiles/subsoil_118.png\n",
      "subsoil_118.png\n",
      "===============\n",
      "subsoil_8.png\n",
      "mv ./ToConvertFiles/subsoil_8.png ./ConvertedFiles/subsoil_119.png\n",
      "subsoil_119.png\n",
      "===============\n",
      "subsoil_9.png\n",
      "mv ./ToConvertFiles/subsoil_9.png ./ConvertedFiles/subsoil_120.png\n",
      "subsoil_120.png\n",
      "===============\n"
     ]
    }
   ],
   "source": [
    "import os\n",
    "\n",
    "toStartFileNameIndex=101\n",
    "\n",
    "def rename_file(startIndex): # 현재 위치(.)의 파일을 모두 가져온다.\n",
    "\n",
    "    ToConvertFilesPath=\"./ToConvertFiles/\"\n",
    "    ConvertedFilesPath=\"./ConvertedFiles/\"\n",
    "\n",
    "    allFiles=os.listdir(\"./ToConvertFiles\")\n",
    "    allFiles.sort()\n",
    "    \n",
    "    for filename in allFiles: # 파일 확장자가 (properties)인 것만 처리\n",
    "    # if filename.endswith(\"properties\"): # 파일명에서 AA를 BB로 변경하고 파일명 수정\n",
    "    #     new_filename = filename.replace(\"AA\", \"BB\")\n",
    "    #     os.rename(filename, new_filename)\n",
    "        print(filename)\n",
    "\n",
    "        splitedFilename=filename.split(\"_\")\n",
    "        resultName=splitedFilename[0]+\"_\"+str(startIndex)+\".png\"\n",
    "        \n",
    "        command=\"mv \"+ToConvertFilesPath+filename+\" \"+ConvertedFilesPath+resultName\n",
    "        print(command)\n",
    "        os.system(command)\n",
    "        print(resultName)\n",
    "        print(\"===============\")\n",
    "\n",
    "        startIndex+=1\n",
    "\n",
    "        # os.rename(filename,ConvertedFilesPath+filename)\n",
    "        \n",
    "\n",
    "if __name__ == \"__main__\":\n",
    "    rename_file(toStartFileNameIndex)\n"
   ]
  },
  {
   "cell_type": "code",
   "execution_count": null,
   "metadata": {},
   "outputs": [],
   "source": []
  }
 ],
 "metadata": {
  "kernelspec": {
   "display_name": "Python 3",
   "language": "python",
   "name": "python3"
  },
  "language_info": {
   "codemirror_mode": {
    "name": "ipython",
    "version": 3
   },
   "file_extension": ".py",
   "mimetype": "text/x-python",
   "name": "python",
   "nbconvert_exporter": "python",
   "pygments_lexer": "ipython3",
   "version": "3.6.9"
  },
  "toc": {
   "base_numbering": 1,
   "nav_menu": {},
   "number_sections": true,
   "sideBar": true,
   "skip_h1_title": false,
   "title_cell": "Table of Contents",
   "title_sidebar": "Contents",
   "toc_cell": false,
   "toc_position": {},
   "toc_section_display": true,
   "toc_window_display": false
  },
  "varInspector": {
   "cols": {
    "lenName": 16,
    "lenType": 16,
    "lenVar": 40
   },
   "kernels_config": {
    "python": {
     "delete_cmd_postfix": "",
     "delete_cmd_prefix": "del ",
     "library": "var_list.py",
     "varRefreshCmd": "print(var_dic_list())"
    },
    "r": {
     "delete_cmd_postfix": ") ",
     "delete_cmd_prefix": "rm(",
     "library": "var_list.r",
     "varRefreshCmd": "cat(var_dic_list()) "
    }
   },
   "types_to_exclude": [
    "module",
    "function",
    "builtin_function_or_method",
    "instance",
    "_Feature"
   ],
   "window_display": false
  }
 },
 "nbformat": 4,
 "nbformat_minor": 4
}
